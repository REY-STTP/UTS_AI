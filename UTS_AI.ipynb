{
  "nbformat": 4,
  "nbformat_minor": 0,
  "metadata": {
    "colab": {
      "provenance": []
    },
    "kernelspec": {
      "name": "python3",
      "display_name": "Python 3"
    },
    "language_info": {
      "name": "python"
    }
  },
  "cells": [
    {
      "cell_type": "code",
      "execution_count": 2,
      "metadata": {
        "colab": {
          "base_uri": "https://localhost:8080/"
        },
        "id": "6i0y9FszD7In",
        "outputId": "847eafb2-11c0-4381-b4b9-923809f1f263"
      },
      "outputs": [
        {
          "output_type": "stream",
          "name": "stdout",
          "text": [
            "[1, 2, 3]\n",
            "[4, 5, 6]\n",
            "[7, 8, 9]\n"
          ]
        }
      ],
      "source": [
        "# Data yang diberikan\n",
        "data = [[1, 2, 3], [4, 5, 6], [7, 8, 9]]\n",
        "\n",
        "# Menampilkan data\n",
        "for row in data:\n",
        "    print(row)"
      ]
    },
    {
      "cell_type": "code",
      "source": [
        "import math\n",
        "\n",
        "# Titik pertama\n",
        "p1 = [1, 2]\n",
        "\n",
        "# Titik kedua\n",
        "p2 = [3, 4]\n",
        "\n",
        "# Menghitung jarak Euclidean antara dua titik\n",
        "jarak = math.sqrt((p2[0] - p1[0])*2 + (p2[1] - p1[1])*2)\n",
        "jarak"
      ],
      "metadata": {
        "colab": {
          "base_uri": "https://localhost:8080/"
        },
        "id": "uXN1J6jKFqBM",
        "outputId": "1fe9b80e-898c-423e-cf0e-3016b0d8d4f3"
      },
      "execution_count": 3,
      "outputs": [
        {
          "output_type": "execute_result",
          "data": {
            "text/plain": [
              "2.8284271247461903"
            ]
          },
          "metadata": {},
          "execution_count": 3
        }
      ]
    },
    {
      "cell_type": "code",
      "source": [
        "from sklearn.neighbors import KNeighborsClassifier\n",
        "\n",
        "# Data yang diberikan\n",
        "data = [[1, 2, 'A'], [4, 5, 'B'], [7, 8, 'A']]\n",
        "\n",
        "# Memisahkan fitur (features) dan label (target)\n",
        "X = [row[:-1] for row in data]  # Fitur\n",
        "y = [row[-1] for row in data]   # Label\n",
        "\n",
        "# Inisialisasi model KNN dengan K=1 (1 tetangga terdekat)\n",
        "knn = KNeighborsClassifier(n_neighbors=1)\n",
        "\n",
        "# Melatih model KNN\n",
        "knn.fit(X, y)\n",
        "\n",
        "# Prediksi kelas untuk titik baru\n",
        "new_point = [[3, 4]]  # Contoh titik baru yang ingin diprediksi kelasnya\n",
        "predicted_class = knn.predict(new_point)\n",
        "print(\"Prediksi kelas untuk titik {}: {}\".format(new_point[0], predicted_class[0]))"
      ],
      "metadata": {
        "colab": {
          "base_uri": "https://localhost:8080/"
        },
        "id": "u4evqhJkF8A8",
        "outputId": "004daaf7-e1bf-4be5-ca8d-1088127823f4"
      },
      "execution_count": 4,
      "outputs": [
        {
          "output_type": "stream",
          "name": "stdout",
          "text": [
            "Prediksi kelas untuk titik [3, 4]: B\n"
          ]
        }
      ]
    }
  ]
}